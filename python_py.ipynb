{
  "cells": [
    {
      "cell_type": "markdown",
      "metadata": {
        "id": "view-in-github",
        "colab_type": "text"
      },
      "source": [
        "<a href=\"https://colab.research.google.com/github/Swayamswapnila/Python/blob/master/python_py.ipynb\" target=\"_parent\"><img src=\"https://colab.research.google.com/assets/colab-badge.svg\" alt=\"Open In Colab\"/></a>"
      ]
    },
    {
      "cell_type": "code",
      "execution_count": null,
      "metadata": {
        "id": "87dsgQFMEozs",
        "colab": {
          "base_uri": "https://localhost:8080/"
        },
        "outputId": "b6736e37-dd06-4d90-bab9-283a845e2ac1"
      },
      "outputs": [
        {
          "output_type": "execute_result",
          "data": {
            "text/plain": [
              "10"
            ]
          },
          "metadata": {},
          "execution_count": 4
        }
      ],
      "source": [
        "5+5"
      ]
    },
    {
      "cell_type": "code",
      "execution_count": null,
      "metadata": {
        "id": "jjvJXj9cE2Zm",
        "colab": {
          "base_uri": "https://localhost:8080/"
        },
        "outputId": "2c92b27c-d00f-4db2-b67d-abadc681f81e"
      },
      "outputs": [
        {
          "output_type": "stream",
          "name": "stdout",
          "text": [
            "1. addition\n",
            "2.substaction\n",
            "3.multiplication\n",
            "4.division\n",
            "5.foe power\n",
            "enter a numer10\n",
            "entre a number20\n",
            "Enter choice (1/2/3/4/5): 5\n",
            "100000000000000000000\n",
            "Let's do next calculation? (yes/no): yes\n",
            "enter a numer2\n",
            "entre a number12\n",
            "Enter choice (1/2/3/4/5): 1\n",
            "14\n",
            "Let's do next calculation? (yes/no): n\n",
            "invalid\n"
          ]
        }
      ],
      "source": [
        "print(\"1. addition\")\n",
        "print(\"2.substaction\")\n",
        "print(\"3.multiplication\")\n",
        "print(\"4.division\")\n",
        "print(\"5.foe power\")\n",
        "\n",
        "while 5==5:\n",
        " A = int(input(\"enter a numer\"))\n",
        " B = int(input(\"entre a number\"))\n",
        " choose = int(input(\"Enter choice (1/2/3/4/5): \"))\n",
        " if choose == 1:\n",
        "  c = A+B\n",
        "  print(c)\n",
        " elif choose == 2:\n",
        "  c = A-B\n",
        "  print(c)\n",
        " elif choose == 3:\n",
        "  c = A*B\n",
        "  print(c)\n",
        " elif choose == 4:\n",
        "  c = A/B\n",
        "  print(c)\n",
        " elif choose == 5:\n",
        "  c =A**B\n",
        "  print(c)\n",
        " else:\n",
        "  print(\"invalid input\")\n",
        " Z = input(\"Let's do next calculation? (yes/no): \")\n",
        " if Z ==\"yes\":\n",
        "  continue\n",
        " elif Z ==\"no\":\n",
        "  break\n",
        " else:\n",
        "  print(\"invalid\")\n",
        "  break"
      ]
    },
    {
      "cell_type": "code",
      "execution_count": null,
      "metadata": {
        "id": "OrDSUf7-JEyn",
        "colab": {
          "base_uri": "https://localhost:8080/"
        },
        "outputId": "7a7670b5-0c73-4b38-b654-e0bef50612a8"
      },
      "outputs": [
        {
          "name": "stdout",
          "output_type": "stream",
          "text": [
            "Select operation.\n",
            "1.Add\n",
            "2.Subtract\n",
            "3.Multiply\n",
            "4.Divide\n",
            "Enter choice (1/2/3/4): 1\n",
            "Enter first number: 10\n",
            "Enter second number: 5\n",
            "10.0 + 5.0 = 15.0\n",
            "Let's do next calculation? (yes/no): yes\n",
            "Enter choice (1/2/3/4): 4544\n",
            "Invalid Input\n",
            "Enter choice (1/2/3/4): 1\n",
            "Enter first number: 4214\n",
            "Enter second number: 555\n",
            "4214.0 + 555.0 = 4769.0\n",
            "Let's do next calculation? (yes/no): no\n"
          ]
        }
      ],
      "source": [
        "# This function adds two numbers\n",
        "def add(x, y):\n",
        "    return x + y\n",
        "\n",
        "# This function subtracts two numbers\n",
        "def subtract(x, y):\n",
        "    return x - y\n",
        "\n",
        "# This function multiplies two numbers\n",
        "def multiply(x, y):\n",
        "    return x * y\n",
        "\n",
        "# This function divides two numbers\n",
        "def divide(x, y):\n",
        "    return x / y\n",
        "\n",
        "print(\"Select operation.\")\n",
        "print(\"1.Add\")\n",
        "print(\"2.Subtract\")\n",
        "print(\"3.Multiply\")\n",
        "print(\"4.Divide\")\n",
        "\n",
        "while True:\n",
        "    # take input from the user\n",
        "    choice = input(\"Enter choice (1/2/3/4): \")\n",
        "\n",
        "    # check if choice is one of the four options\n",
        "    if choice in ('1', '2', '3', '4'):\n",
        "        try:\n",
        "            num1 = float(input(\"Enter first number: \"))\n",
        "            num2 = float(input(\"Enter second number: \"))\n",
        "        except ValueError:\n",
        "            print(\"Invalid input. Please enter a number.\")\n",
        "            continue\n",
        "\n",
        "        if choice == '1':\n",
        "            print(num1, \"+\", num2, \"=\", add(num1, num2))\n",
        "\n",
        "        elif choice == '2':\n",
        "            print(num1, \"-\", num2, \"=\", subtract(num1, num2))\n",
        "\n",
        "        elif choice == '3':\n",
        "            print(num1, \"*\", num2, \"=\", multiply(num1, num2))\n",
        "\n",
        "        elif choice == '4':\n",
        "            print(num1, \"/\", num2, \"=\", divide(num1, num2))\n",
        "\n",
        "        # check if user wants another calculation\n",
        "        # break the while loop if answer is no\n",
        "        next_calculation = input(\"Let's do next calculation? (yes/no): \")\n",
        "        if next_calculation == \"no\":\n",
        "            break\n",
        "\n",
        "    else:\n",
        "        print(\"Invalid Input\")\n"
      ]
    },
    {
      "cell_type": "code",
      "source": [
        "A = list((5,4,2,5))\n",
        "print(A)\n",
        "print(type(A))"
      ],
      "metadata": {
        "id": "HZQWDwJlz81h"
      },
      "execution_count": null,
      "outputs": []
    },
    {
      "cell_type": "code",
      "source": [
        "A = 10\n",
        "while A>0:\n",
        "  A-=1\n",
        "  if(A!=5):\n",
        "    print(A)\n",
        "  else:\n",
        "    break"
      ],
      "metadata": {
        "id": "Ql7zS7y2Js3t"
      },
      "execution_count": null,
      "outputs": []
    },
    {
      "cell_type": "code",
      "source": [
        "A = 10\n",
        "while A>0:\n",
        "  A-=1\n",
        "  if(A!=5):\n",
        "    print(A)\n",
        "  else:\n",
        "    continue"
      ],
      "metadata": {
        "id": "FMLHDqlzKHJj"
      },
      "execution_count": null,
      "outputs": []
    },
    {
      "cell_type": "code",
      "source": [
        "def multiply(A,B):\n",
        "    multiply = A*B\n",
        "    return multiply\n",
        "\n"
      ],
      "metadata": {
        "id": "jxzpbRjUK9Vi"
      },
      "execution_count": null,
      "outputs": []
    },
    {
      "cell_type": "code",
      "source": [
        "#\"for get binary of any number\"\n",
        "A = bin(int(input()))\n",
        "print(A)\n",
        "print(type(A))"
      ],
      "metadata": {
        "id": "mo_xR_PGLxb5",
        "colab": {
          "base_uri": "https://localhost:8080/"
        },
        "outputId": "2777667e-f8e7-4d20-9b4b-eb5ea778196c"
      },
      "execution_count": null,
      "outputs": [
        {
          "output_type": "stream",
          "name": "stdout",
          "text": [
            "2\n",
            "0b10\n",
            "<class 'str'>\n"
          ]
        }
      ]
    },
    {
      "cell_type": "code",
      "source": [
        "A = list(set((2,5,8,4)))\n",
        "print(A)\n",
        "print(type(A))"
      ],
      "metadata": {
        "colab": {
          "base_uri": "https://localhost:8080/"
        },
        "id": "xJ9oGkIAaCt9",
        "outputId": "88c0ff8b-c7e3-4ac4-dcde-af8396f631fe"
      },
      "execution_count": null,
      "outputs": [
        {
          "output_type": "stream",
          "name": "stdout",
          "text": [
            "[8, 2, 4, 5]\n",
            "<class 'list'>\n"
          ]
        }
      ]
    },
    {
      "cell_type": "code",
      "source": [
        "#\"for calculate factorial\"\n",
        "N = int(input())\n",
        "for i in range(1,N):\n",
        "  N = N*i\n",
        "print(N)"
      ],
      "metadata": {
        "colab": {
          "base_uri": "https://localhost:8080/"
        },
        "id": "bBi9PR0iaMcE",
        "outputId": "2a3557dd-02eb-4b6e-c28e-1c3374f3e747"
      },
      "execution_count": null,
      "outputs": [
        {
          "output_type": "stream",
          "name": "stdout",
          "text": [
            "5\n",
            "120\n"
          ]
        }
      ]
    },
    {
      "cell_type": "code",
      "source": [
        "import numpy as np\n",
        "L = [1,2,5,8,9,3]\n",
        "A = np.array(L)\n",
        "print(A)\n",
        "print(type(A))"
      ],
      "metadata": {
        "id": "WRZJuHwRbCXz",
        "colab": {
          "base_uri": "https://localhost:8080/"
        },
        "outputId": "3f70fa48-ac5f-4052-c7d0-1c110f0871c1"
      },
      "execution_count": null,
      "outputs": [
        {
          "output_type": "stream",
          "name": "stdout",
          "text": [
            "[1 2 5 8 9 3]\n",
            "<class 'numpy.ndarray'>\n"
          ]
        }
      ]
    },
    {
      "cell_type": "code",
      "source": [
        "import numpy as np\n",
        "A = np.arange(7)\n",
        "print(A)"
      ],
      "metadata": {
        "colab": {
          "base_uri": "https://localhost:8080/"
        },
        "id": "tCzBfN8zA-yx",
        "outputId": "5d4158ee-5dc9-439b-d4ba-0680a9421e38"
      },
      "execution_count": null,
      "outputs": [
        {
          "output_type": "stream",
          "name": "stdout",
          "text": [
            "[0 1 2 3 4 5 6]\n"
          ]
        }
      ]
    },
    {
      "cell_type": "code",
      "source": [
        "import numpy as np\n",
        "A = np.linspace(2,20,10)\n",
        "print(A)"
      ],
      "metadata": {
        "colab": {
          "base_uri": "https://localhost:8080/"
        },
        "id": "1FM1UdERC0LQ",
        "outputId": "a64c92dd-2638-496d-d64c-b9fba2c43389"
      },
      "execution_count": null,
      "outputs": [
        {
          "output_type": "stream",
          "name": "stdout",
          "text": [
            "[ 2.  4.  6.  8. 10. 12. 14. 16. 18. 20.]\n"
          ]
        }
      ]
    },
    {
      "cell_type": "code",
      "source": [
        "# for find factors of a number\n",
        "L = list()\n",
        "A = int(input())\n",
        "for a in range(1,A):\n",
        "  if A%a == 0:\n",
        "    L.append(a)\n",
        "print(L)"
      ],
      "metadata": {
        "colab": {
          "base_uri": "https://localhost:8080/"
        },
        "id": "ZkCzWf8WDiav",
        "outputId": "b073fcf4-8f3a-4c41-8840-ea28458066be"
      },
      "execution_count": null,
      "outputs": [
        {
          "output_type": "stream",
          "name": "stdout",
          "text": [
            "100\n",
            "[1, 2, 4, 5, 10, 20, 25, 50]\n"
          ]
        }
      ]
    },
    {
      "cell_type": "code",
      "source": [
        "#find fabonacci series\n",
        "A =[0,1]\n",
        "N = int(input())\n",
        "for i in range (N):\n",
        "  S = A[i+1]+A[i]\n",
        "  A.append(S)\n",
        "print(A)"
      ],
      "metadata": {
        "id": "57q1UnSVJrXN",
        "colab": {
          "base_uri": "https://localhost:8080/"
        },
        "outputId": "e46fdc08-3f6d-4e7f-92cc-6a11ea846cb6"
      },
      "execution_count": null,
      "outputs": [
        {
          "output_type": "stream",
          "name": "stdout",
          "text": [
            "10\n",
            "[0, 1, 1, 2, 3, 5, 8, 13, 21, 34, 55, 89]\n"
          ]
        }
      ]
    },
    {
      "cell_type": "code",
      "source": [
        "#for find AP by numpy\n",
        "import numpy as np\n",
        "A = int(input(\"first term =\"))\n",
        "B = int(input(\"last term =\"))\n",
        "C = int(input(\"no.of terms = \"))\n",
        "AP = np.linspace(A,B,C)\n",
        "print(AP)"
      ],
      "metadata": {
        "id": "bsMUtCMBWlzm"
      },
      "execution_count": null,
      "outputs": []
    },
    {
      "cell_type": "code",
      "source": [
        "# Import the datetime module\n",
        "import datetime\n",
        "\n",
        "# Define a function to calculate the age\n",
        "def calculate_age(dob, today):\n",
        "  # Check if the date of birth is valid\n",
        "  if dob > today:\n",
        "    return \"Invalid date of birth\"\n",
        "  # Calculate the year difference\n",
        "  years = today.year - dob.year\n",
        "  # Adjust the year difference if the birthday has not passed yet\n",
        "  if (today.month, today.day) < (dob.month, dob.day):\n",
        "    years -= 1\n",
        "  # Calculate the month difference\n",
        "  months = today.month - dob.month\n",
        "  # Adjust the month difference if the day of the month has not passed yet\n",
        "  if today.day < dob.day:\n",
        "    months -= 1\n",
        "  # Calculate the day difference\n",
        "  days = today.day - dob.day\n",
        "  # Adjust the day difference if the month has changed\n",
        "  if days < 0:\n",
        "    # Get the number of days in the previous month\n",
        "    prev_month = today.replace(day=1) - datetime.timedelta(days=1)\n",
        "    days_in_month = prev_month.day\n",
        "    # Add the days in the previous month to the day difference\n",
        "    days += days_in_month\n",
        "  # Return the age as a string\n",
        "  return f\"{years} years, {months} months and {days} days\"\n",
        "\n",
        "# Get the current date\n",
        "today = datetime.date.today()\n",
        "# Get the date of birth from the user input\n",
        "dob = datetime.date(int(input(\"Enter your birth year: \")), int(input(\"Enter your birth month: \")), int(input(\"Enter your birth day: \")))\n",
        "# Call the function and print the result\n",
        "print(\"Your age is:\", calculate_age(dob, today))\n"
      ],
      "metadata": {
        "id": "vIEdd1FIj8wa",
        "colab": {
          "base_uri": "https://localhost:8080/"
        },
        "outputId": "e23b35bc-5517-460c-f001-99b0c2655242"
      },
      "execution_count": null,
      "outputs": [
        {
          "output_type": "stream",
          "name": "stdout",
          "text": [
            "Enter your birth year: 2007\n",
            "Enter your birth month: 3\n",
            "Enter your birth day: 7\n",
            "Your age is: 16 years, 8 months and 21 days\n"
          ]
        }
      ]
    },
    {
      "cell_type": "code",
      "source": [
        "def is_palindrome(s):\n",
        "    return s == s[::-1]\n",
        "\n",
        "string = input()\n",
        "if is_palindrome(string):\n",
        "    print(f\"{string} is a palindrome.\")\n",
        "else:\n",
        "    print(f\"{string} is not a palindrome.\")\n"
      ],
      "metadata": {
        "colab": {
          "base_uri": "https://localhost:8080/"
        },
        "id": "G6Ai6Jx46j0y",
        "outputId": "b7b152ef-557e-4aba-e25a-3df392dd8969"
      },
      "execution_count": null,
      "outputs": [
        {
          "output_type": "stream",
          "name": "stdout",
          "text": [
            "1231\n",
            "1231 is not a palindrome.\n"
          ]
        }
      ]
    },
    {
      "cell_type": "code",
      "source": [
        "string = input(\"Enter a string: \")\n",
        "i = 0\n",
        "j = len(string) - 1\n",
        "\n",
        "while i < j:\n",
        "    if string[i] != string[j]:\n",
        "        print(f\"{string} is not a palindrome.\")\n",
        "        break\n",
        "    i += 1\n",
        "    j -= 1\n",
        "else:\n",
        "    print(f\"{string} is a palindrome.\")"
      ],
      "metadata": {
        "colab": {
          "base_uri": "https://localhost:8080/"
        },
        "id": "WyiM7dtx7Poi",
        "outputId": "bb6ab25b-3d35-47e2-dec2-74342aeee77b"
      },
      "execution_count": null,
      "outputs": [
        {
          "output_type": "stream",
          "name": "stdout",
          "text": [
            "Enter a string: int(A\n",
            "int(A is not a palindrome.\n"
          ]
        }
      ]
    },
    {
      "cell_type": "code",
      "source": [
        "import datetime\n",
        "A = datetime.datetime.now()\n",
        "print(A)"
      ],
      "metadata": {
        "colab": {
          "base_uri": "https://localhost:8080/"
        },
        "id": "PYeqraICiScx",
        "outputId": "cfd24c10-d87f-4915-b362-52cbc3110686"
      },
      "execution_count": null,
      "outputs": [
        {
          "output_type": "stream",
          "name": "stdout",
          "text": [
            "2023-12-31 04:55:18.040185\n"
          ]
        }
      ]
    },
    {
      "cell_type": "code",
      "source": [
        "import datetime\n",
        "def calculate_age(dob, today):\n",
        "  if dob > today:\n",
        "    return \"Invalid date of birth\"\n",
        "  years = today.year - dob.year\n",
        "  if (today.month, today.day) < (dob.month, dob.day):\n",
        "    years -= 1\n",
        "  months = today.month - dob.month\n",
        "  if today.day < dob.day:\n",
        "    months -= 1\n",
        "  days = today.day - dob.day\n",
        "  if days < 0:\n",
        "    prev_month = today.replace(day=1) - datetime.timedelta(days=1)\n",
        "    days_in_month = prev_month.day\n",
        "    days += days_in_month\n",
        "  return f\"{years} years, {months} months and {days} days\"\n",
        "today = datetime.date.today()\n",
        "dob = datetime.date(int(input(\"Enter your birth year: \")),int(input(\"Enter your birth month: \")), int(input(\"Enter your birth day: \")))\n",
        "print(\"Your age is:\", calculate_age(dob, today))\n"
      ],
      "metadata": {
        "id": "ylznakuniXur",
        "colab": {
          "base_uri": "https://localhost:8080/"
        },
        "outputId": "aed32ec8-79c2-43fc-d94f-4176eb1c070a"
      },
      "execution_count": null,
      "outputs": [
        {
          "output_type": "stream",
          "name": "stdout",
          "text": [
            "Enter your birth year: 2007\n",
            "Enter your birth month: 3\n",
            "Enter your birth day: 7\n",
            "Your age is: 16 years, 9 months and 24 days\n"
          ]
        }
      ]
    },
    {
      "cell_type": "code",
      "source": [
        "def my_func(A,B):\n",
        "  return A+B\n",
        "A = int(input())\n",
        "B = int(input())\n",
        "my_func(A,B)"
      ],
      "metadata": {
        "colab": {
          "base_uri": "https://localhost:8080/"
        },
        "id": "W9IYbPihOm8c",
        "outputId": "f76e89da-fb34-4dc3-a6cf-20dc60cd7eda"
      },
      "execution_count": null,
      "outputs": [
        {
          "name": "stdout",
          "output_type": "stream",
          "text": [
            "10\n",
            "23\n"
          ]
        },
        {
          "output_type": "execute_result",
          "data": {
            "text/plain": [
              "33"
            ]
          },
          "metadata": {},
          "execution_count": 5
        }
      ]
    },
    {
      "cell_type": "code",
      "source": [
        "x = lambda a, b: a * b\n",
        "print(x(5, 6))"
      ],
      "metadata": {
        "colab": {
          "base_uri": "https://localhost:8080/"
        },
        "id": "4ZN9dnCtQK7Y",
        "outputId": "ba6bfe49-3abe-47f4-d439-c3e592c9157d"
      },
      "execution_count": null,
      "outputs": [
        {
          "output_type": "stream",
          "name": "stdout",
          "text": [
            "30\n"
          ]
        }
      ]
    },
    {
      "cell_type": "code",
      "source": [
        "A = lambda a,b,c,d,e : a+b-c*d/e\n",
        "a = int(input())\n",
        "b = int(input())\n",
        "c = int(input())\n",
        "d = int(input())\n",
        "e = int(input())\n",
        "print(A(a,b,c,d,e))"
      ],
      "metadata": {
        "colab": {
          "base_uri": "https://localhost:8080/"
        },
        "id": "OgHwuKgQWTw9",
        "outputId": "185f8cef-1dae-45ce-ecbd-300ef0939452"
      },
      "execution_count": null,
      "outputs": [
        {
          "output_type": "stream",
          "name": "stdout",
          "text": [
            "10\n",
            "20\n",
            "30\n",
            "4\n",
            "2\n",
            "-30.0\n"
          ]
        }
      ]
    },
    {
      "cell_type": "code",
      "source": [
        "import matplotlib.pyplot as plt\n",
        "sub = [\"IP\",\"bio\",\"physics\"]\n",
        "per= [52,28,20]\n",
        "plt.pie(per)\n",
        "plt.show()"
      ],
      "metadata": {
        "id": "9th1eeH_XKJP",
        "colab": {
          "base_uri": "https://localhost:8080/",
          "height": 406
        },
        "outputId": "a88254de-b919-4531-b9b1-296dbd088978"
      },
      "execution_count": null,
      "outputs": [
        {
          "output_type": "display_data",
          "data": {
            "text/plain": [
              "<Figure size 640x480 with 1 Axes>"
            ],
            "image/png": "[encoded data removed]"
          },
          "metadata": {}
        }
      ]
    },
    {
      "cell_type": "code",
      "source": [
        "import matplotlib.pyplot as plt\n",
        "sub = [\"IP\", \"bio\", \"math\", \"chem\", \"phy\", \"eng\"]\n",
        "per = [100, 78, 62, 99, 89, 69.5]\n",
        "plt.bar(sub, per, align=\"center\", color=[\"green\", \"blue\", \"red\", \"black\", \"pink\", \"yellow\"])\n",
        "plt.show()"
      ],
      "metadata": {
        "colab": {
          "base_uri": "https://localhost:8080/",
          "height": 430
        },
        "id": "qP7bA4X02hf6",
        "outputId": "742a81ae-8309-4f0d-97b4-140c87048549"
      },
      "execution_count": null,
      "outputs": [
        {
          "output_type": "display_data",
          "data": {
            "text/plain": [
              "<Figure size 640x480 with 1 Axes>"
            ],
            "image/png": "[encoded data removed]"
          },
          "metadata": {}
        }
      ]
    },
    {
      "cell_type": "code",
      "source": [
        "def add(a,b):\n",
        "  return a+b\n",
        "def sub(a,b):\n",
        "  return a-b\n",
        "def mult(a,b):\n",
        "  return a*b\n",
        "def dev(a,b):\n",
        "  return a/b\n",
        "a = int(input(\"enter first number = \"))\n",
        "b = int(input(\"enter second number = \"))\n",
        "while 1 == 1:\n",
        "  A = input(\"enter your comand +,-,*,/ = \")\n",
        "  if A == \"+\":\n",
        "    print(add(a,b))\n",
        "  elif A == \"-\":\n",
        "    print(sub(a,b))\n",
        "  elif A == \"*\":\n",
        "    print(mult(a,b))\n",
        "  elif A == \"/\":\n",
        "    print(dev(a,b))\n",
        "  else:\n",
        "    print(\"invalid input\")\n",
        "  B = input(\"yes or no foe next calulation = \")\n",
        "  if B == \"yes\":\n",
        "    continue\n",
        "  else:\n",
        "    break"
      ],
      "metadata": {
        "colab": {
          "base_uri": "https://localhost:8080/"
        },
        "id": "29sfbbcEvGyT",
        "outputId": "f2fb3394-d34c-4407-b6f6-dbe490a41a2c"
      },
      "execution_count": null,
      "outputs": [
        {
          "name": "stdout",
          "output_type": "stream",
          "text": [
            "enter first number = 10\n",
            "enter second number = 2\n",
            "enter your comand +,-,*,/ = *\n",
            "20\n",
            "yes or no foe next calulation = no\n"
          ]
        }
      ]
    },
    {
      "cell_type": "code",
      "source": [
        "import matplotlib.pyplot as plt\n",
        "import numpy as np\n",
        "\n",
        "sub = [\"IP\", \"bio\", \"math\", \"chem\", \"phy\", \"eng\"]\n",
        "per = [100, 78, 62, 99, 89, 69.5]\n",
        "x = np.asarray(per)\n",
        "\n",
        "plt.pie(x, labels=sub)\n",
        "plt.show()"
      ],
      "metadata": {
        "colab": {
          "base_uri": "https://localhost:8080/",
          "height": 406
        },
        "id": "oemd-VNa67Vt",
        "outputId": "645a481e-78ea-46ea-f26b-a8d8c61eae0a"
      },
      "execution_count": null,
      "outputs": [
        {
          "output_type": "display_data",
          "data": {
            "text/plain": [
              "<Figure size 640x480 with 1 Axes>"
            ],
            "image/png": "[encoded data removed]"
          },
          "metadata": {}
        }
      ]
    },
    {
      "cell_type": "code",
      "source": [
        "import matplotlib.pyplot as plt\n",
        "import numpy as np\n",
        "xpoints = np.array([0,1,2,3,4,5,6,7,8,9,10])\n",
        "ypoints = np.array([0,50,20,83,47,76,94,37,87,89,76])\n",
        "plt.plot(xpoints,ypoints)\n",
        "plt.show()"
      ],
      "metadata": {
        "id": "7L7n7bDxmYJS",
        "colab": {
          "base_uri": "https://localhost:8080/",
          "height": 430
        },
        "outputId": "637d7748-61e2-4fe6-80f0-997aed8295a9"
      },
      "execution_count": 8,
      "outputs": [
        {
          "output_type": "display_data",
          "data": {
            "text/plain": [
              "<Figure size 640x480 with 1 Axes>"
            ],
            "image/png": "[encoded data removed]"
          },
          "metadata": {}
        }
      ]
    },
    {
      "cell_type": "code",
      "source": [
        "import matplotlib.pyplot as plt\n",
        "import numpy as np\n",
        "xpoints = np.array([0,1,2,3,4,5,6,7,8,9,10])\n",
        "ypoints = np.array([0,50,20,83,47,76,94,37,87,89,76])\n",
        "plt.plot(xpoints,ypoints,marker = \"o\")\n",
        "plt.show()"
      ],
      "metadata": {
        "colab": {
          "base_uri": "https://localhost:8080/",
          "height": 430
        },
        "id": "BfO5na6_Qplp",
        "outputId": "aa89632b-437b-42b2-c0c5-bb66a1ce87d6"
      },
      "execution_count": 9,
      "outputs": [
        {
          "output_type": "display_data",
          "data": {
            "text/plain": [
              "<Figure size 640x480 with 1 Axes>"
            ],
            "image/png": "[encoded data removed]"
          },
          "metadata": {}
        }
      ]
    },
    {
      "cell_type": "code",
      "source": [],
      "metadata": {
        "id": "lm1ihF_eUP9T"
      },
      "execution_count": null,
      "outputs": []
    }
  ],
  "metadata": {
    "colab": {
      "provenance": [],
      "authorship_tag": "ABX9TyMCkvVk+k9eOez53JMn5a1t",
      "include_colab_link": true
    },
    "kernelspec": {
      "display_name": "Python 3",
      "name": "python3"
    },
    "language_info": {
      "name": "python"
    }
  },
  "nbformat": 4,
  "nbformat_minor": 0
}